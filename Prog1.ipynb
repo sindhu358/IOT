{
 "cells": [
  {
   "cell_type": "code",
   "execution_count": 1,
   "id": "1d2edbeb-3460-4a2f-a173-01b5238894ca",
   "metadata": {},
   "outputs": [
    {
     "name": "stdout",
     "output_type": "stream",
     "text": [
      "Hello World\n"
     ]
    }
   ],
   "source": [
    "  print(\"Hello World\")"
   ]
  },
  {
   "cell_type": "code",
   "execution_count": 6,
   "id": "611c7f46-113e-4841-a814-2b34dc04a963",
   "metadata": {},
   "outputs": [
    {
     "name": "stdout",
     "output_type": "stream",
     "text": [
      "Name: Sindhu\n",
      " Age: 12\n"
     ]
    }
   ],
   "source": [
    "name = \"Sindhu\"\n",
    "age = 12\n",
    "print(f\"Name: {name}\\n Age: {age}\")"
   ]
  },
  {
   "cell_type": "code",
   "execution_count": 2,
   "id": "dd30e412-302b-4f09-b629-fbf1ef86a181",
   "metadata": {},
   "outputs": [
    {
     "name": "stdout",
     "output_type": "stream",
     "text": [
      "n1: 1\n"
     ]
    }
   ],
   "source": [
    "n1 = 1\n",
    "n2 = 4\n",
    "n3 = 5\n",
    "n4 = 5\n",
    "print(f\"n1: {n1}\")\n",
    "\n"
   ]
  },
  {
   "cell_type": "code",
   "execution_count": 3,
   "id": "eb285405-58d3-45e5-bce9-9a7abedb6ab6",
   "metadata": {},
   "outputs": [
    {
     "name": "stdout",
     "output_type": "stream",
     "text": [
      "1\n",
      "4\n",
      "5\n",
      "5\n"
     ]
    }
   ],
   "source": [
    "\n",
    "num = [1,4,5,5]\n",
    "for i in range(0,len(num)):\n",
    "    print(num[i])\n",
    "    "
   ]
  },
  {
   "cell_type": "code",
   "execution_count": 13,
   "id": "5fc31acd-cc10-4c43-b0a2-3ced9afa2887",
   "metadata": {},
   "outputs": [
    {
     "name": "stdout",
     "output_type": "stream",
     "text": [
      "1,4,5,10,\n",
      "1,4,10.5,10,\n",
      "[1, 4, 10.5, 10, 3]\n",
      "[1, 5, 4, 10.5, 10, 3]\n",
      "[5, 4, 10.5, 10, 3]\n"
     ]
    }
   ],
   "source": [
    "#Declare and iterate through a list\n",
    "num = [1,4,5,10]\n",
    "for i in range(0,len(num)):\n",
    "    print(num[i], end= \",\")\n",
    "\n",
    "#change the value of an element in a list\n",
    "print()\n",
    "num[2] = 10.5\n",
    "for i in range(0,len(num)):\n",
    "    print(num[i], end=',')\n",
    "\n",
    "# add an element to end of the list\n",
    "print()\n",
    "num.append(3);\n",
    "print(num)\n",
    "num.insert(1,5); #(poition,value)\n",
    "print(num)\n",
    "\n",
    "#Remove element from the list\n",
    "num.remove(1)#value\n",
    "print(num)\n",
    "\n"
   ]
  },
  {
   "cell_type": "code",
   "execution_count": 16,
   "id": "b55bd91d-f3d0-4c3b-bc26-7068504207ae",
   "metadata": {},
   "outputs": [
    {
     "name": "stdout",
     "output_type": "stream",
     "text": [
      "[1, 2, 3]\n",
      "(1, 2, 3, 4, 5, 6, 1, 2, 3, 4, 5, 6)\n",
      "(1, 2, 3, 4, 5, 6)\n"
     ]
    }
   ],
   "source": [
    "#declare a list\n",
    "l1 = [1,2,3]\n",
    "l2 = list()\n",
    "l2.append(1)\n",
    "l2.append(2)\n",
    "l2.append(3)\n",
    "l1[1] = 5\n",
    "print(l2)\n",
    "\n",
    "#declare a tuple\n",
    "T1 = (1,2,3)\n",
    "T2 = T1 + (4,5,6)\n",
    "T1 = T2 + T2\n",
    "print(T1)\n",
    "print(T2)\n"
   ]
  },
  {
   "cell_type": "code",
   "execution_count": 17,
   "id": "b76e6dfd-bf4a-48ea-924f-fb1f917012e3",
   "metadata": {},
   "outputs": [
    {
     "name": "stdout",
     "output_type": "stream",
     "text": [
      " Size of a_list: 72\n",
      " Size of a_list: 56\n"
     ]
    }
   ],
   "source": [
    "import sys\n",
    "a_list = [2,4]\n",
    "a_tuple = (2,4)\n",
    "print(f\" Size of a_list: {sys.getsizeof(a_list)}\")\n",
    "print(f\" Size of a_list: {sys.getsizeof(a_tuple)}\")\n",
    "\n"
   ]
  },
  {
   "cell_type": "code",
   "execution_count": 20,
   "id": "321c7622-f7e1-401d-955a-eb7500856a12",
   "metadata": {},
   "outputs": [
    {
     "name": "stdout",
     "output_type": "stream",
     "text": [
      "Hello Harsh from a function\n"
     ]
    }
   ],
   "source": [
    "def my_function(name):\n",
    "    print(f\"Hello {name} from a function\")\n",
    "my_function (\"Harsh\")"
   ]
  },
  {
   "cell_type": "code",
   "execution_count": 28,
   "id": "b2dd60b2-94d2-4dc9-a27b-4ccf936ba52e",
   "metadata": {},
   "outputs": [
    {
     "data": {
      "application/vnd.jupyter.widget-view+json": {
       "model_id": "ca1daf066eb54eb4a0ad4581eea3c1d5",
       "version_major": 2,
       "version_minor": 0
      },
      "text/plain": [
       "interactive(children=(Text(value='Sindhu', description='name'), Output()), _dom_classes=('widget-interact',))"
      ]
     },
     "metadata": {},
     "output_type": "display_data"
    },
    {
     "data": {
      "application/vnd.jupyter.widget-view+json": {
       "model_id": "e0442a943b9c47f79112777f92160f84",
       "version_major": 2,
       "version_minor": 0
      },
      "text/plain": [
       "interactive(children=(IntSlider(value=10, description='x', max=30, min=-10), Output()), _dom_classes=('widget-…"
      ]
     },
     "metadata": {},
     "output_type": "display_data"
    },
    {
     "data": {
      "text/plain": [
       "<function __main__.my_function2(x)>"
      ]
     },
     "execution_count": 28,
     "metadata": {},
     "output_type": "execute_result"
    }
   ],
   "source": [
    "from ipywidgets import interact\n",
    "#print(f\" Size of ipywidgets: {sys.getsizeof(ipywidgets)}\")\n",
    "#print(f\" Size of interact: {sys.getsizeof(interact)}\")\n",
    "def my_function(name):\n",
    "    print(f\"Hello {name} from a function\")\n",
    "interact(my_function,name = \"Sindhu\")\n",
    "\n",
    "#instead of textbox, depending on th return type, the UI can be a slider\n",
    "def my_function2(x):\n",
    "    return x*2\n",
    "interact(my_function2,x = 10)\n",
    "\n",
    "    \n"
   ]
  },
  {
   "cell_type": "code",
   "execution_count": 29,
   "id": "abac3123-ff10-4eea-9438-540682dc042a",
   "metadata": {},
   "outputs": [
    {
     "data": {
      "application/vnd.jupyter.widget-view+json": {
       "model_id": "e5670488dfe647b1bb326816c3997311",
       "version_major": 2,
       "version_minor": 0
      },
      "text/plain": [
       "interactive(children=(Dropdown(description='name', options=('Adarsh', 'krishnavi', 'swathi'), value='Adarsh'),…"
      ]
     },
     "metadata": {},
     "output_type": "display_data"
    },
    {
     "data": {
      "text/plain": [
       "<function __main__.drop_down(name)>"
      ]
     },
     "execution_count": 29,
     "metadata": {},
     "output_type": "execute_result"
    }
   ],
   "source": [
    "def drop_down(name):\n",
    "    print(f\"Hello {name} from a function\")\n",
    "interact (drop_down,name =[\"Adarsh\",\"krishnavi\",\"swathi\"])"
   ]
  },
  {
   "cell_type": "code",
   "execution_count": 36,
   "id": "d361dcd6-008a-4983-963c-344d73466f66",
   "metadata": {},
   "outputs": [
    {
     "data": {
      "application/vnd.jupyter.widget-view+json": {
       "model_id": "e46365904ed342d2aad1f0b6492123c7",
       "version_major": 2,
       "version_minor": 0
      },
      "text/plain": [
       "interactive(children=(Dropdown(description='side_1', options=(1.0, 3), value=1.0), Dropdown(description='side_…"
      ]
     },
     "metadata": {},
     "output_type": "display_data"
    },
    {
     "data": {
      "text/plain": [
       "<function __main__.pythagorean(side_1, side_2)>"
      ]
     },
     "execution_count": 36,
     "metadata": {},
     "output_type": "execute_result"
    }
   ],
   "source": [
    "import math\n",
    "def pythagorean(side_1,side_2):\n",
    "    return math.sqrt((float(side_1)**2 +(side_2)**2))\n",
    "interact(pythagorean, side_1 = [1.0,3], side_2 = [1.0,8])\n"
   ]
  },
  {
   "cell_type": "code",
   "execution_count": 39,
   "id": "7dc79c29-610c-4563-94cb-88ecb9aad313",
   "metadata": {},
   "outputs": [
    {
     "data": {
      "image/png": "[encoded data removed]",
      "text/plain": [
       "<Figure size 640x480 with 1 Axes>"
      ]
     },
     "metadata": {},
     "output_type": "display_data"
    }
   ],
   "source": [
    "#import matplotlib.pyplot as plt\n",
    "from matplotlib import pyplot\n",
    "pyplot.plot([1,2.5,3.5,4])\n",
    "pyplot.ylabel(\"some number\")\n",
    "pyplot.show()"
   ]
  },
  {
   "cell_type": "code",
   "execution_count": 50,
   "id": "c4b22eb9-559c-41ce-8867-0b1c68761de1",
   "metadata": {},
   "outputs": [
    {
     "data": {
      "application/vnd.jupyter.widget-view+json": {
       "model_id": "8948f99ebfbe4d2fa597713a97c8c3f4",
       "version_major": 2,
       "version_minor": 0
      },
      "text/plain": [
       "interactive(children=(FloatSlider(value=8.0, description='freq', max=24.0, min=-8.0), Output()), _dom_classes=…"
      ]
     },
     "metadata": {},
     "output_type": "display_data"
    },
    {
     "data": {
      "text/plain": [
       "'\\nprint(\"B\\n, geek.linspace(2.0, 3.0, num =5, retstep =True),\"\\n\")\\n\\n#To evaluate sin in long range\\nx = geek.linspace(0,2,10)\\nprint(\"A\\n\", geek.sin(x))\\n'"
      ]
     },
     "execution_count": 50,
     "metadata": {},
     "output_type": "execute_result"
    }
   ],
   "source": [
    "import numpy\n",
    "\n",
    "def plot_sine(freq =8):\n",
    "    points = numpy.linspace(math.pi, -math.pi*freq , num =100)\n",
    "    pyplot.plot(numpy.sin(points))\n",
    "    pyplot.ylabel(\"sine wave?\")\n",
    "    pyplot.show()\n",
    "interact(plot_sine, freq = 8.0)\n",
    "'''\n",
    "print(\"B\\n, geek.linspace(2.0, 3.0, num =5, retstep =True),\"\\n\")\n",
    "\n",
    "#To evaluate sin in long range\n",
    "x = geek.linspace(0,2,10)\n",
    "print(\"A\\n\", geek.sin(x))\n",
    "'''"
   ]
  },
  {
   "cell_type": "code",
   "execution_count": null,
   "id": "c9096893-1f62-4e80-94c0-29672da4657b",
   "metadata": {},
   "outputs": [],
   "source": []
  }
 ],
 "metadata": {
  "kernelspec": {
   "display_name": "Python 3 (ipykernel)",
   "language": "python",
   "name": "python3"
  },
  "language_info": {
   "codemirror_mode": {
    "name": "ipython",
    "version": 3
   },
   "file_extension": ".py",
   "mimetype": "text/x-python",
   "name": "python",
   "nbconvert_exporter": "python",
   "pygments_lexer": "ipython3",
   "version": "3.12.5"
  }
 },
 "nbformat": 4,
 "nbformat_minor": 5
}
